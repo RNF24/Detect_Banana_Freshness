{
  "nbformat": 4,
  "nbformat_minor": 0,
  "metadata": {
    "colab": {
      "provenance": []
    },
    "kernelspec": {
      "name": "python3",
      "display_name": "Python 3"
    },
    "language_info": {
      "name": "python"
    }
  },
  "cells": [
    {
      "cell_type": "code",
      "execution_count": null,
      "metadata": {
        "colab": {
          "base_uri": "https://localhost:8080/"
        },
        "id": "e9oqClsTcVfj",
        "outputId": "c8c20e7f-f44c-4e66-a3a0-d301fa16028e"
      },
      "outputs": [
        {
          "output_type": "stream",
          "name": "stdout",
          "text": [
            "Mounted at /content/drive\n"
          ]
        }
      ],
      "source": [
        "#Mount Drive\n",
        "import pandas as pd\n",
        "from google.colab import drive\n",
        "drive.mount('/content/drive')"
      ]
    },
    {
      "cell_type": "code",
      "source": [
        "#KNN\n",
        "from sklearn import metrics\n",
        "from sklearn import neighbors\n",
        "from sklearn.model_selection import train_test_split\n",
        "from sklearn.metrics import accuracy_score\n",
        "from numpy.random import RandomState"
      ],
      "metadata": {
        "id": "NeYQXJzVkv_k"
      },
      "execution_count": null,
      "outputs": []
    },
    {
      "cell_type": "code",
      "source": [
        "path = ('/content/drive/MyDrive/Kuliah/Semester 5/Pengenalan Pola/BananaIsGood - Copy - BananaIsGood - Copy (2).csv')\n",
        "df = pd.read_csv(path, dtype=str)\n",
        "print(df)"
      ],
      "metadata": {
        "colab": {
          "base_uri": "https://localhost:8080/"
        },
        "id": "9S_oziaWcdjA",
        "outputId": "3b6b74ec-fb93-4fcf-811b-826f949dfb69"
      },
      "execution_count": null,
      "outputs": [
        {
          "output_type": "stream",
          "name": "stdout",
          "text": [
            "   Merah Biru Hijau Kelas\n",
            "0     29   55    31     1\n",
            "1     32   64    31     1\n",
            "2     24   55    29     1\n",
            "3     19   35    20     1\n",
            "4     27   53    28     1\n",
            "5     34   63    36     1\n",
            "6     21   36    23     1\n",
            "7     37   67    39     1\n",
            "8     20   43    24     1\n",
            "9     31   59    31     1\n",
            "10    32   65    35     1\n",
            "11    29   56    30     1\n",
            "12    24   50    28     1\n",
            "13    37   74    40     1\n",
            "14    33   63    35     1\n",
            "15    14   32    18     2\n",
            "16    18   43    25     2\n",
            "17    17   37    22     2\n",
            "18    15   36    20     2\n",
            "19    15   31    19     2\n",
            "20    13   30    18     2\n",
            "21    21   40    28     2\n",
            "22    17   38    23     2\n",
            "23    15   33    20     2\n",
            "24    16   37    21     2\n",
            "25    14   31    19     2\n",
            "26    20   46    28     2\n",
            "27    22   44    28     2\n",
            "28    16   35    22     2\n",
            "29    17   36    21     2\n"
          ]
        }
      ]
    },
    {
      "cell_type": "code",
      "source": [
        "df0 = df.iloc[:, [0, 1, 2]] #Colour\n",
        "df1 = df.iloc[:, [3]] #Class"
      ],
      "metadata": {
        "id": "Wml3uabGckcd"
      },
      "execution_count": null,
      "outputs": []
    },
    {
      "cell_type": "code",
      "source": [
        "x_train,x_test,y_train,y_test = train_test_split(df0, df1, test_size = 0.2, random_state=1)"
      ],
      "metadata": {
        "id": "FZSYKFmDcm_a"
      },
      "execution_count": null,
      "outputs": []
    },
    {
      "cell_type": "code",
      "source": [
        "print(\"==== KNN dengan K=3 ====\")\n",
        "knn = neighbors.KNeighborsClassifier(n_neighbors=3)\n",
        "knn.fit(x_train, y_train.values.ravel())\n",
        "y_pred = knn.predict(x_test)\n",
        "\n",
        "print('prediction: ', y_pred.reshape(1,-1))\n",
        "print('actual: ', y_test)\n",
        "print('accuracy: ', accuracy_score(y_test, y_pred))\n",
        "\n",
        "print(metrics.classification_report(y_test, y_pred))\n",
        "print(metrics.confusion_matrix(y_test, y_pred))\n",
        "print()\n",
        "\n",
        "print(\"==== KNN dengan K=5 ====\")\n",
        "knn = neighbors.KNeighborsClassifier(n_neighbors=5)\n",
        "knn.fit(x_train, y_train.values.ravel())\n",
        "y_pred = knn.predict(x_test)\n",
        "\n",
        "print('prediction: ', y_pred.reshape(1,-1))\n",
        "print('actual: ', y_test)\n",
        "print('accuracy: ', accuracy_score(y_test, y_pred))\n",
        "\n",
        "print(metrics.classification_report(y_test, y_pred))\n",
        "print(metrics.confusion_matrix(y_test, y_pred))\n",
        "print()\n",
        "\n",
        "print(\"==== KNN dengan K=7 ====\")\n",
        "knn = neighbors.KNeighborsClassifier(n_neighbors=7)\n",
        "knn.fit(x_train, y_train.values.ravel())\n",
        "y_pred = knn.predict(x_test)\n",
        "\n",
        "print('prediction: ', y_pred.reshape(1,-1))\n",
        "print('actual: ', y_test)\n",
        "print('accuracy: ', accuracy_score(y_test, y_pred))\n",
        "\n",
        "print(metrics.classification_report(y_test, y_pred))\n",
        "print(metrics.confusion_matrix(y_test, y_pred))\n",
        "print()\n",
        "\n",
        "print(\"==== KNN dengan K=9 ====\")\n",
        "knn = neighbors.KNeighborsClassifier(n_neighbors=9)\n",
        "knn.fit(x_train, y_train.values.ravel())\n",
        "y_pred = knn.predict(x_test)\n",
        "\n",
        "print('prediction: ', y_pred.reshape(1,-1))\n",
        "print('actual: ', y_test)\n",
        "print('accuracy: ', accuracy_score(y_test, y_pred))\n",
        "\n",
        "print(metrics.classification_report(y_test, y_pred))\n",
        "print(metrics.confusion_matrix(y_test, y_pred))\n",
        "print()\n",
        "\n",
        "print(\"==== KNN dengan K=11 ====\")\n",
        "knn = neighbors.KNeighborsClassifier(n_neighbors=11)\n",
        "knn.fit(x_train, y_train.values.ravel())\n",
        "y_pred = knn.predict(x_test)\n",
        "\n",
        "print('prediction: ', y_pred.reshape(1,-1))\n",
        "print('actual: ', y_test)\n",
        "print('accuracy: ', accuracy_score(y_test, y_pred))\n",
        "\n",
        "print(metrics.classification_report(y_test, y_pred))\n",
        "print(metrics.confusion_matrix(y_test, y_pred))"
      ],
      "metadata": {
        "colab": {
          "base_uri": "https://localhost:8080/"
        },
        "id": "wRd18GrkcpT5",
        "outputId": "3264189d-ec2e-4c8a-be78-8f1f4f45bf1e"
      },
      "execution_count": null,
      "outputs": [
        {
          "output_type": "stream",
          "name": "stdout",
          "text": [
            "==== KNN dengan K=3 ====\n",
            "prediction:  [['2' '2' '1' '2' '1' '2']]\n",
            "actual:     Kelas\n",
            "17     2\n",
            "21     2\n",
            "10     1\n",
            "19     2\n",
            "14     1\n",
            "20     2\n",
            "accuracy:  1.0\n",
            "              precision    recall  f1-score   support\n",
            "\n",
            "           1       1.00      1.00      1.00         2\n",
            "           2       1.00      1.00      1.00         4\n",
            "\n",
            "    accuracy                           1.00         6\n",
            "   macro avg       1.00      1.00      1.00         6\n",
            "weighted avg       1.00      1.00      1.00         6\n",
            "\n",
            "[[2 0]\n",
            " [0 4]]\n",
            "\n",
            "==== KNN dengan K=5 ====\n",
            "prediction:  [['2' '2' '1' '2' '1' '2']]\n",
            "actual:     Kelas\n",
            "17     2\n",
            "21     2\n",
            "10     1\n",
            "19     2\n",
            "14     1\n",
            "20     2\n",
            "accuracy:  1.0\n",
            "              precision    recall  f1-score   support\n",
            "\n",
            "           1       1.00      1.00      1.00         2\n",
            "           2       1.00      1.00      1.00         4\n",
            "\n",
            "    accuracy                           1.00         6\n",
            "   macro avg       1.00      1.00      1.00         6\n",
            "weighted avg       1.00      1.00      1.00         6\n",
            "\n",
            "[[2 0]\n",
            " [0 4]]\n",
            "\n",
            "==== KNN dengan K=7 ====\n",
            "prediction:  [['2' '2' '1' '2' '1' '2']]\n",
            "actual:     Kelas\n",
            "17     2\n",
            "21     2\n",
            "10     1\n",
            "19     2\n",
            "14     1\n",
            "20     2\n",
            "accuracy:  1.0\n",
            "              precision    recall  f1-score   support\n",
            "\n",
            "           1       1.00      1.00      1.00         2\n",
            "           2       1.00      1.00      1.00         4\n",
            "\n",
            "    accuracy                           1.00         6\n",
            "   macro avg       1.00      1.00      1.00         6\n",
            "weighted avg       1.00      1.00      1.00         6\n",
            "\n",
            "[[2 0]\n",
            " [0 4]]\n",
            "\n",
            "==== KNN dengan K=9 ====\n",
            "prediction:  [['2' '2' '1' '2' '1' '2']]\n",
            "actual:     Kelas\n",
            "17     2\n",
            "21     2\n",
            "10     1\n",
            "19     2\n",
            "14     1\n",
            "20     2\n",
            "accuracy:  1.0\n",
            "              precision    recall  f1-score   support\n",
            "\n",
            "           1       1.00      1.00      1.00         2\n",
            "           2       1.00      1.00      1.00         4\n",
            "\n",
            "    accuracy                           1.00         6\n",
            "   macro avg       1.00      1.00      1.00         6\n",
            "weighted avg       1.00      1.00      1.00         6\n",
            "\n",
            "[[2 0]\n",
            " [0 4]]\n",
            "\n",
            "==== KNN dengan K=11 ====\n",
            "prediction:  [['2' '2' '1' '2' '1' '2']]\n",
            "actual:     Kelas\n",
            "17     2\n",
            "21     2\n",
            "10     1\n",
            "19     2\n",
            "14     1\n",
            "20     2\n",
            "accuracy:  1.0\n",
            "              precision    recall  f1-score   support\n",
            "\n",
            "           1       1.00      1.00      1.00         2\n",
            "           2       1.00      1.00      1.00         4\n",
            "\n",
            "    accuracy                           1.00         6\n",
            "   macro avg       1.00      1.00      1.00         6\n",
            "weighted avg       1.00      1.00      1.00         6\n",
            "\n",
            "[[2 0]\n",
            " [0 4]]\n"
          ]
        }
      ]
    }
  ]
}
